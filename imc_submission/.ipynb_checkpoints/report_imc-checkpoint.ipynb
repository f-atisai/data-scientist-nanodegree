{
 "cells": [
  {
   "cell_type": "markdown",
   "id": "67fae065",
   "metadata": {},
   "source": [
    "![Header Image](assets/header_img.jpg)"
   ]
  },
  {
   "cell_type": "markdown",
   "id": "e107cb75",
   "metadata": {},
   "source": [
    "# The Oxford 102 Flowers\n",
    "\n",
    "Going forward, AI algorithms will be incorporated into more and more everyday applications. A large part of software development in the future will use deep learning models trained on hundreds of thousands of images as part of their overall application architecture. This project trains an image classifier to recognize different species of flowers. An example application might be a phone app that tells the name of the flower a camera is looking at.\n",
    "\n",
    "This project has two parts: \n",
    "* Part A: Building and training a classifier on the dataset\n",
    "* Part B: Building a command-line application that uses the trained model to perform inference on flower images\n",
    "\n",
    "The dataset for this project is the [Oxford 102 Category Flower Dataset](http://www.robots.ox.ac.uk/~vgg/data/flowers/102/index.html) compiled by Maria-Elena Nilsback and Andrew Zisserman, and published in their article \"*Automated Flower Classification Over a Large Number of Classes*\". The article can be found [here](https://www.robots.ox.ac.uk/~vgg/publications/2008/Nilsback08/)."
   ]
  },
  {
   "cell_type": "markdown",
   "id": "b7602c02",
   "metadata": {},
   "source": [
    "---\n",
    "## Exploring The Data\n",
    "\n",
    "The Dataset comprises of 102 flower categories commonly occurring in the United Kingdom. Each category contains between 40 and 258 images with different variations - *large scale, pose and light*. A few of the images with thier labels are shown below.\n",
    "\n",
    "<img src='assets/flowers.png' width=500px>\n",
    "\n",
    "<p style=\"text-align: center;\"><strong>Figure 1: Dataset preview</strong></p>"
   ]
  },
  {
   "cell_type": "markdown",
   "id": "7ee8a6e4",
   "metadata": {},
   "source": [
    "The dataset has 3 splits: `'train'`, `'test'`, and `'validation'`. The train set is used to train the model while the validation and test sets are used to measure the model's performance on data it hasn't seen yet.\n",
    "The train and validation sets each contain 1020 images each (10 images per class), and the test set contains 6149 images (minimum 20 per class), making a total of 8189 images in the dataset."
   ]
  },
  {
   "cell_type": "markdown",
   "id": "a5548a9d",
   "metadata": {},
   "source": [
    "### Examining Image Shape\n",
    "\n",
    "The figure below shows the shape of 3 images in the dataset with one of the images displayed. As can be seen, the raw images have a variety of sizes with three color channels each. Each pixel value in the images are in the range \\[0, 255\\].\n",
    "\n",
    "<img alt='dataset preview' src='assets/dataset_preview.png' />\n",
    "\n",
    "<p style=\"text-align: center;\"><strong>Figure 2: Image Shape</strong></p>"
   ]
  },
  {
   "cell_type": "markdown",
   "id": "cfa3cb8c",
   "metadata": {},
   "source": [
    "---\n",
    "## Preparing The Data\n",
    "\n",
    "Deep neural networks process data in batches. The batch size is the number of images that the neural network receives in one iteration. This neural network expects the images in the batch to be consistent in their shapes and sizes. It was shown previously that the images in the dataset are of different shapes. These images need to be standardized to a fixed size. In addition, the network expects the pixel values of the images to be in the range `[-1, 1]`, but the images in the dataset are in the range `[0, 255]`. These will have to be normalized."
   ]
  },
  {
   "cell_type": "markdown",
   "id": "aba1cbc3",
   "metadata": {},
   "source": [
    "### Creating The Pipeline\n",
    "\n",
    "A pipeline is a set of transformations that is applied to the data so that it can be fed efficiently to the network. Achieving peak performance requires an input pipeline that delivers the batch for the next iteration before current iteration completes.\n",
    "\n",
    "A pipeline is created to cache and prefetch the batches, optimizing their loading speeds. It loads the images in batch sizes of 32, standardizes the images to the shape `(224x224)`, and normalizes the pixel values in the range `[-1, 1]`."
   ]
  },
  {
   "cell_type": "markdown",
   "id": "4f09f232",
   "metadata": {},
   "source": [
    "---\n",
    "## Building and Training The Classifier\n",
    "\n",
    "### Transfer Learning\n",
    "\n",
    "Convolutional Neural Networks are best for image classification. However, Modern CNNS have millions of parameters. Training them from scratch will require a ton of computing power (hundreds of gpu hours or more). Because such resources are unavailable and the goal is to spend less time building the classifier, a pre-trained neural network is leveraged and adapted to the new dataset - this is known as **transfer learning**. Transfer learning often includes additional training and or fine tuning depending on both the size of the new dataset, and, the similarity of the new dataset to the original dataset."
   ]
  },
  {
   "cell_type": "markdown",
   "id": "6f9ffe7e",
   "metadata": {},
   "source": [
    "### MobileNet"
   ]
  },
  {
   "cell_type": "markdown",
   "id": "2147cae3",
   "metadata": {},
   "source": [
    "MobileNet pre-trained network is used for extracting the features from the images. A new untrained feed-forward classifier is added to the MobileNet pre-trained network and the classifier is trained for 10 epochs using 'Adam' optimization. The plot below shows the loss and accuracy values achieved during training for the `train` and `validation` set.\n",
    "\n",
    "<img alt='plot of accuracy and loss during training' src='assets/loss_accuracy_train_val.png' />\n",
    "\n",
    "<p style=\"text-align: center;\"><strong>Figure 3: Training Accuracy and Loss Plot</strong></p>"
   ]
  },
  {
   "cell_type": "markdown",
   "id": "0b9acb8b",
   "metadata": {},
   "source": [
    "*Discuss plot*"
   ]
  },
  {
   "cell_type": "markdown",
   "id": "df75c942",
   "metadata": {},
   "source": [
    "## Testing The Network\n",
    "\n",
    "It is good practice to test the trained network on test data, images the network has never seen either in training or validation. This will provide a good estimate for the model's performance on completely new images. If the model has been trained well, it should be able to reach around 70% accuracy on the test set. The trained model achieved a 77.38% accuracy on the test set with a loss of 0.98."
   ]
  },
  {
   "cell_type": "markdown",
   "id": "9a010b19",
   "metadata": {},
   "source": [
    "It's always good to check the predictions made by the model to make sure they are correct. To check the predictions, the model is tested with 4 random images. The plot shows one input image alongside the probabilities for the top 5 classes predicted by the model as a bar graph.\n",
    "\n",
    "\n",
    "<img src='assets/inference_example.png' width=600px>\n",
    "\n",
    "<p style=\"text-align: center;\"><strong>Figure 4: Top 5 predicted classes of image</strong></p>"
   ]
  },
  {
   "cell_type": "markdown",
   "id": "e6f0e26d",
   "metadata": {},
   "source": [
    "This fufilled the requirement.Thus, the model is saved for use in the command-line application."
   ]
  }
 ],
 "metadata": {
  "kernelspec": {
   "display_name": "Python 3 (ipykernel)",
   "language": "python",
   "name": "python3"
  },
  "language_info": {
   "codemirror_mode": {
    "name": "ipython",
    "version": 3
   },
   "file_extension": ".py",
   "mimetype": "text/x-python",
   "name": "python",
   "nbconvert_exporter": "python",
   "pygments_lexer": "ipython3",
   "version": "3.9.7"
  }
 },
 "nbformat": 4,
 "nbformat_minor": 5
}
